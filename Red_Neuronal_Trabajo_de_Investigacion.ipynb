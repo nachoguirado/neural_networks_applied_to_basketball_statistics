{
  "nbformat": 4,
  "nbformat_minor": 0,
  "metadata": {
    "colab": {
      "name": "Red Neuronal Trabajo de Investigacion",
      "provenance": [],
      "collapsed_sections": []
    },
    "kernelspec": {
      "name": "python3",
      "display_name": "Python 3"
    },
    "language_info": {
      "name": "python"
    }
  },
  "cells": [
    {
      "cell_type": "code",
      "metadata": {
        "id": "Hy_pAhzDZ4gy"
      },
      "source": [
        "import tensorflow as tf\n",
        "import numpy as np"
      ],
      "execution_count": 1,
      "outputs": []
    },
    {
      "cell_type": "code",
      "metadata": {
        "id": "MIrfX72vaL1z"
      },
      "source": [
        "#Aqui voy a poner los juegos que ha jugado por temporada desde la 2014 hasta las 2019 el jugador Jayce Carroll. #37\n",
        "prueba_games = 37\n",
        "games_played = np.array([40,45, 41, 42, 39, 25 ], dtype=float)\n",
        "#Aqui voy a poner los puntos por partido promediados por temporada desde la 2014 hasta la 2019 del mismo jugador. #Puntos esperados 10.8 \n",
        "puntos_esperados = 10.8\n",
        "points_per_game = np.array([9.1,12.9, 12.1, 12.1, 9.9, 10.4 ], dtype=float)"
      ],
      "execution_count": 24,
      "outputs": []
    },
    {
      "cell_type": "code",
      "metadata": {
        "id": "RIG6Y5jEafFL"
      },
      "source": [
        "capa = tf.keras.layers.Dense(units=1, input_shape=[1])\n",
        "modelo = tf.keras.Sequential([capa])\n",
        "\n",
        "oculta1 = tf.keras.layers.Dense(units=3, input_shape=[1])\n",
        "oculta2 = tf.keras.layers.Dense(units=3)\n",
        "salida = tf.keras.layers.Dense(units=1)\n",
        "modelo = tf.keras.Sequential([oculta1, oculta2, salida])"
      ],
      "execution_count": 3,
      "outputs": []
    },
    {
      "cell_type": "code",
      "metadata": {
        "id": "1_WHzWidbN_8"
      },
      "source": [
        "#Para el optimizador utilizare uno llamado ADAM, que le permite a la red ajustar los pesos y sesgos de manera eficiente para que aprenda y no desaprenda. 0,1 es la tasa de aprendizaje\n",
        "modelo.compile(\n",
        "    optimizer=tf.keras.optimizers.Adam(0.1),\n",
        "    loss='mean_squared_error'\n",
        ")"
      ],
      "execution_count": 4,
      "outputs": []
    },
    {
      "cell_type": "code",
      "metadata": {
        "colab": {
          "base_uri": "https://localhost:8080/"
        },
        "id": "4D-NuUTnbabR",
        "outputId": "465fc324-a28b-4fc0-d4aa-3613bf25af89"
      },
      "source": [
        "print(\"Empezando el entrenamiento\")\n",
        "historial = modelo.fit(games_played,points_per_game, epochs=1000, verbose=False)\n",
        "print(\"Modelo entrenado\")"
      ],
      "execution_count": 5,
      "outputs": [
        {
          "output_type": "stream",
          "name": "stdout",
          "text": [
            "Comenzando entrenamiento...\n",
            "Modelo entrenado!\n"
          ]
        }
      ]
    },
    {
      "cell_type": "code",
      "metadata": {
        "colab": {
          "base_uri": "https://localhost:8080/",
          "height": 296
        },
        "id": "px43cF3Nb3mG",
        "outputId": "0413e080-0ee7-42da-a562-5ba460aa9d23"
      },
      "source": [
        "import matplotlib.pyplot as plt\n",
        "plt.xlabel(\"# Epoca\")\n",
        "plt.ylabel(\"Magnitud de pérdida\")\n",
        "plt.plot(historial.history[\"loss\"])"
      ],
      "execution_count": 6,
      "outputs": [
        {
          "output_type": "execute_result",
          "data": {
            "text/plain": [
              "[<matplotlib.lines.Line2D at 0x7f1adec35e50>]"
            ]
          },
          "metadata": {},
          "execution_count": 6
        },
        {
          "output_type": "display_data",
          "data": {
            "image/png": "[encoded data removed]",
            "text/plain": [
              "<Figure size 432x288 with 1 Axes>"
            ]
          },
          "metadata": {
            "needs_background": "light"
          }
        }
      ]
    },
    {
      "cell_type": "code",
      "metadata": {
        "colab": {
          "base_uri": "https://localhost:8080/"
        },
        "id": "esVvhzjMcV9f",
        "outputId": "c925d68b-f128-431b-ade6-8ac66366e2be"
      },
      "source": [
        "print(\"Hagamos una predicción!\")\n",
        "resultado = modelo.predict([prueba_games])\n",
        "print(\"El resultado es \" + str(resultado) + \" puntos por partido en una temporada!\")"
      ],
      "execution_count": 25,
      "outputs": [
        {
          "output_type": "stream",
          "name": "stdout",
          "text": [
            "Hagamos una predicción!\n",
            "El resultado es [[10.923233]] puntos por partido en una temporada!\n"
          ]
        }
      ]
    },
    {
      "cell_type": "code",
      "source": [
        "#Calculo del error porcentual en nuestra prediccion\n",
        "Porcentaje_error = (((puntos_esperados-resultado)/puntos_esperados)*100)\n",
        "print(str(Porcentaje_error)+\"%\")"
      ],
      "metadata": {
        "colab": {
          "base_uri": "https://localhost:8080/"
        },
        "id": "OHTKgVjXCT2f",
        "outputId": "05541bde-0e56-4624-e0dc-e5f8f0d47c7f"
      },
      "execution_count": 26,
      "outputs": [
        {
          "output_type": "stream",
          "name": "stdout",
          "text": [
            "[[-1.1410447]]%\n"
          ]
        }
      ]
    },
    {
      "cell_type": "code",
      "metadata": {
        "colab": {
          "base_uri": "https://localhost:8080/"
        },
        "id": "FVDejrBgcokc",
        "outputId": "01fbb7bd-66e7-4758-a31b-8c2b3437a376"
      },
      "source": [
        "print(\"Variables internas del modelo\")\n",
        "print(capa.get_weights())\n",
        "print(oculta1.get_weights())\n",
        "print(oculta2.get_weights())\n",
        "print(salida.get_weights())"
      ],
      "execution_count": 9,
      "outputs": [
        {
          "output_type": "stream",
          "name": "stdout",
          "text": [
            "Variables internas del modelo\n",
            "[array([[1.4141871]], dtype=float32), array([0.], dtype=float32)]\n",
            "[array([[ 0.21907952, -0.06484165, -0.10540193]], dtype=float32), array([ 0.9077552, -0.0498809,  2.197553 ], dtype=float32)]\n",
            "[array([[-1.2763265 ,  1.2578328 ,  0.13687277],\n",
            "       [ 0.51804465,  0.00281893, -0.33229712],\n",
            "       [-0.6118253 , -0.17194805, -0.9650071 ]], dtype=float32), array([-2.9703493, -1.172716 ,  1.0425324], dtype=float32)]\n",
            "[array([[-0.953505 ],\n",
            "       [-0.5480675],\n",
            "       [ 0.1289789]], dtype=float32), array([2.0221686], dtype=float32)]\n"
          ]
        }
      ]
    }
  ]
}